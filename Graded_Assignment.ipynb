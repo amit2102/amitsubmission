{
 "cells": [
  {
   "cell_type": "markdown",
   "id": "523562e5-e056-4d00-a517-afc21d18859a",
   "metadata": {},
   "source": [
    "<H1>My Jupyter Notebook on IBM Watson Studio<H1>"
   ]
  },
  {
   "cell_type": "markdown",
   "id": "2540ad5d-41d3-4d9b-b0cc-5a447b6af483",
   "metadata": {},
   "source": [
    "<b>Amit Dutta </b><br>IT Manager"
   ]
  },
  {
   "cell_type": "markdown",
   "id": "4e7af71d-ca03-4327-a024-8bca35c81925",
   "metadata": {},
   "source": [
    "<i>Due to increasing demand globally in Data Science I want to become a data scientist </i>"
   ]
  },
  {
   "cell_type": "markdown",
   "id": "029a6471-f13b-49b4-bb8a-89373460fa18",
   "metadata": {},
   "source": [
    "<h3>The Following Code will Display today's time and date</h3>"
   ]
  },
  {
   "cell_type": "code",
   "execution_count": 14,
   "id": "ca340b6c-687c-4585-a8eb-38f2d8166108",
   "metadata": {},
   "outputs": [
    {
     "name": "stdout",
     "output_type": "stream",
     "text": [
      "Today's Date and Time is  2022-11-16 07:09:03.938280\n"
     ]
    }
   ],
   "source": [
    "import datetime \n",
    "message = \"Today's Date and Time is \" \n",
    "print (message , datetime.datetime.now() )"
   ]
  },
  {
   "cell_type": "markdown",
   "id": "c351995b-3b01-49db-a1b3-a9b82ef078d5",
   "metadata": {},
   "source": [
    "<h1> My favourite Colors</h1>\n",
    "            <li>Red</li>\n",
    "            <li>Green</li>\n",
    "            <li>Orange</li>\n",
    "            <li>Blue</li>\n",
    "            <li>Black</li>"
   ]
  },
  {
   "cell_type": "code",
   "execution_count": null,
   "id": "0a3e648f-5f01-47b0-b14a-4ec1616b4afb",
   "metadata": {},
   "outputs": [],
   "source": [
    "  </ol>\n",
    "            <hr>\n",
    "            <table border=\\\"1px\\\">\n",
    "                <tr>\n",
    "                    <td><b>Satelites</b></td>\n",
    "                    <td><b>Planets</b></td>\n",
    "                </tr>\n",
    "                <tr>\n",
    "                    <td>Moon</td>\n",
    "                    <td>Earth</td>\n",
    "                </tr>\n",
    "                <tr>\n",
    "                   <td>Europa</td>\n",
    "                    <td>Jupiter</td>\n",
    "                </tr>\n",
    "                <tr>\n",
    "                    <td>Ganymede</td>\n",
    "                    <td>Computer</td>\n",
    "                </tr>\n",
    "                <tr>\n",
    "                    <td>Titan</td>\n",
    "                    <td>Television</td>"
   ]
  },
  {
   "cell_type": "markdown",
   "id": "9f1b65d7-c4c9-424c-b8d5-0d7478b6303e",
   "metadata": {},
   "source": []
  }
 ],
 "metadata": {
  "kernelspec": {
   "display_name": "Python",
   "language": "python",
   "name": "conda-env-python-py"
  },
  "language_info": {
   "codemirror_mode": {
    "name": "ipython",
    "version": 3
   },
   "file_extension": ".py",
   "mimetype": "text/x-python",
   "name": "python",
   "nbconvert_exporter": "python",
   "pygments_lexer": "ipython3",
   "version": "3.7.12"
  }
 },
 "nbformat": 4,
 "nbformat_minor": 5
}
